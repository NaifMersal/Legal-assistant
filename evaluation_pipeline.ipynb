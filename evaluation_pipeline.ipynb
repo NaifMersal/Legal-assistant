{
  "cells": [
    {
      "cell_type": "markdown",
      "id": "ed0859f1",
      "metadata": {
        "id": "ed0859f1"
      },
      "source": [
        "# Information Retrieval Evaluation Pipeline\n",
        "\n",
        "This notebook implements a comprehensive evaluation pipeline for information retrieval systems using FAISS indices and BGE-M3 embeddings. The pipeline includes:\n",
        "- Retrieval evaluation with multiple metrics\n",
        "- Visualization of results\n",
        "- Detailed performance analysis by categories\n",
        "- Report generation\n",
        "\n",
        "First, let's set up our environment and install required dependencies."
      ]
    },
    {
      "cell_type": "code",
      "execution_count": 9,
      "id": "d6c1dd2c",
      "metadata": {
        "colab": {
          "base_uri": "https://localhost:8080/"
        },
        "id": "d6c1dd2c",
        "outputId": "c9224c24-645d-4983-8450-197720b99b47"
      },
      "outputs": [
        {
          "name": "stderr",
          "output_type": "stream",
          "text": [
            "huggingface/tokenizers: The current process just got forked, after parallelism has already been used. Disabling parallelism to avoid deadlocks...\n",
            "To disable this warning, you can either:\n",
            "\t- Avoid using `tokenizers` before the fork if possible\n",
            "\t- Explicitly set the environment variable TOKENIZERS_PARALLELISM=(true | false)\n"
          ]
        },
        {
          "name": "stdout",
          "output_type": "stream",
          "text": [
            "Requirement already satisfied: torch in /home/naif/miniconda3/envs/legal-assistant/lib/python3.12/site-packages (2.9.0)\n",
            "Requirement already satisfied: transformers in /home/naif/miniconda3/envs/legal-assistant/lib/python3.12/site-packages (4.57.1)\n",
            "Requirement already satisfied: sentence-transformers in /home/naif/miniconda3/envs/legal-assistant/lib/python3.12/site-packages (5.1.2)\n",
            "Requirement already satisfied: rank_bm25 in /home/naif/miniconda3/envs/legal-assistant/lib/python3.12/site-packages (0.2.2)\n",
            "Requirement already satisfied: nltk in /home/naif/miniconda3/envs/legal-assistant/lib/python3.12/site-packages (3.9.2)\n",
            "Requirement already satisfied: filelock in /home/naif/miniconda3/envs/legal-assistant/lib/python3.12/site-packages (from torch) (3.20.0)\n",
            "Requirement already satisfied: typing-extensions>=4.10.0 in /home/naif/miniconda3/envs/legal-assistant/lib/python3.12/site-packages (from torch) (4.15.0)\n",
            "Requirement already satisfied: setuptools in /home/naif/miniconda3/envs/legal-assistant/lib/python3.12/site-packages (from torch) (80.9.0)\n",
            "Requirement already satisfied: sympy>=1.13.3 in /home/naif/miniconda3/envs/legal-assistant/lib/python3.12/site-packages (from torch) (1.14.0)\n",
            "Requirement already satisfied: networkx>=2.5.1 in /home/naif/miniconda3/envs/legal-assistant/lib/python3.12/site-packages (from torch) (3.5)\n",
            "Requirement already satisfied: jinja2 in /home/naif/miniconda3/envs/legal-assistant/lib/python3.12/site-packages (from torch) (3.1.6)\n",
            "Requirement already satisfied: fsspec>=0.8.5 in /home/naif/miniconda3/envs/legal-assistant/lib/python3.12/site-packages (from torch) (2025.9.0)\n",
            "Requirement already satisfied: nvidia-cuda-nvrtc-cu12==12.8.93 in /home/naif/miniconda3/envs/legal-assistant/lib/python3.12/site-packages (from torch) (12.8.93)\n",
            "Requirement already satisfied: nvidia-cuda-runtime-cu12==12.8.90 in /home/naif/miniconda3/envs/legal-assistant/lib/python3.12/site-packages (from torch) (12.8.90)\n",
            "Requirement already satisfied: nvidia-cuda-cupti-cu12==12.8.90 in /home/naif/miniconda3/envs/legal-assistant/lib/python3.12/site-packages (from torch) (12.8.90)\n",
            "Requirement already satisfied: nvidia-cudnn-cu12==9.10.2.21 in /home/naif/miniconda3/envs/legal-assistant/lib/python3.12/site-packages (from torch) (9.10.2.21)\n",
            "Requirement already satisfied: nvidia-cublas-cu12==12.8.4.1 in /home/naif/miniconda3/envs/legal-assistant/lib/python3.12/site-packages (from torch) (12.8.4.1)\n",
            "Requirement already satisfied: nvidia-cufft-cu12==11.3.3.83 in /home/naif/miniconda3/envs/legal-assistant/lib/python3.12/site-packages (from torch) (11.3.3.83)\n",
            "Requirement already satisfied: nvidia-curand-cu12==10.3.9.90 in /home/naif/miniconda3/envs/legal-assistant/lib/python3.12/site-packages (from torch) (10.3.9.90)\n",
            "Requirement already satisfied: nvidia-cusolver-cu12==11.7.3.90 in /home/naif/miniconda3/envs/legal-assistant/lib/python3.12/site-packages (from torch) (11.7.3.90)\n",
            "Requirement already satisfied: nvidia-cusparse-cu12==12.5.8.93 in /home/naif/miniconda3/envs/legal-assistant/lib/python3.12/site-packages (from torch) (12.5.8.93)\n",
            "Requirement already satisfied: nvidia-cusparselt-cu12==0.7.1 in /home/naif/miniconda3/envs/legal-assistant/lib/python3.12/site-packages (from torch) (0.7.1)\n",
            "Requirement already satisfied: nvidia-nccl-cu12==2.27.5 in /home/naif/miniconda3/envs/legal-assistant/lib/python3.12/site-packages (from torch) (2.27.5)\n",
            "Requirement already satisfied: nvidia-nvshmem-cu12==3.3.20 in /home/naif/miniconda3/envs/legal-assistant/lib/python3.12/site-packages (from torch) (3.3.20)\n",
            "Requirement already satisfied: nvidia-nvtx-cu12==12.8.90 in /home/naif/miniconda3/envs/legal-assistant/lib/python3.12/site-packages (from torch) (12.8.90)\n",
            "Requirement already satisfied: nvidia-nvjitlink-cu12==12.8.93 in /home/naif/miniconda3/envs/legal-assistant/lib/python3.12/site-packages (from torch) (12.8.93)\n",
            "Requirement already satisfied: nvidia-cufile-cu12==1.13.1.3 in /home/naif/miniconda3/envs/legal-assistant/lib/python3.12/site-packages (from torch) (1.13.1.3)\n",
            "Requirement already satisfied: triton==3.5.0 in /home/naif/miniconda3/envs/legal-assistant/lib/python3.12/site-packages (from torch) (3.5.0)\n",
            "Requirement already satisfied: huggingface-hub<1.0,>=0.34.0 in /home/naif/miniconda3/envs/legal-assistant/lib/python3.12/site-packages (from transformers) (0.35.3)\n",
            "Requirement already satisfied: numpy>=1.17 in /home/naif/miniconda3/envs/legal-assistant/lib/python3.12/site-packages (from transformers) (2.3.4)\n",
            "Requirement already satisfied: packaging>=20.0 in /home/naif/miniconda3/envs/legal-assistant/lib/python3.12/site-packages (from transformers) (25.0)\n",
            "Requirement already satisfied: pyyaml>=5.1 in /home/naif/miniconda3/envs/legal-assistant/lib/python3.12/site-packages (from transformers) (6.0.3)\n",
            "Requirement already satisfied: regex!=2019.12.17 in /home/naif/miniconda3/envs/legal-assistant/lib/python3.12/site-packages (from transformers) (2025.10.23)\n",
            "Requirement already satisfied: requests in /home/naif/miniconda3/envs/legal-assistant/lib/python3.12/site-packages (from transformers) (2.32.5)\n",
            "Requirement already satisfied: tokenizers<=0.23.0,>=0.22.0 in /home/naif/miniconda3/envs/legal-assistant/lib/python3.12/site-packages (from transformers) (0.22.1)\n",
            "Requirement already satisfied: safetensors>=0.4.3 in /home/naif/miniconda3/envs/legal-assistant/lib/python3.12/site-packages (from transformers) (0.6.2)\n",
            "Requirement already satisfied: tqdm>=4.27 in /home/naif/miniconda3/envs/legal-assistant/lib/python3.12/site-packages (from transformers) (4.67.1)\n",
            "Requirement already satisfied: hf-xet<2.0.0,>=1.1.3 in /home/naif/miniconda3/envs/legal-assistant/lib/python3.12/site-packages (from huggingface-hub<1.0,>=0.34.0->transformers) (1.1.10)\n",
            "Requirement already satisfied: scikit-learn in /home/naif/miniconda3/envs/legal-assistant/lib/python3.12/site-packages (from sentence-transformers) (1.7.2)\n",
            "Requirement already satisfied: scipy in /home/naif/miniconda3/envs/legal-assistant/lib/python3.12/site-packages (from sentence-transformers) (1.16.2)\n",
            "Requirement already satisfied: Pillow in /home/naif/miniconda3/envs/legal-assistant/lib/python3.12/site-packages (from sentence-transformers) (12.0.0)\n",
            "Requirement already satisfied: click in /home/naif/miniconda3/envs/legal-assistant/lib/python3.12/site-packages (from nltk) (8.3.0)\n",
            "Requirement already satisfied: joblib in /home/naif/miniconda3/envs/legal-assistant/lib/python3.12/site-packages (from nltk) (1.5.2)\n",
            "Requirement already satisfied: mpmath<1.4,>=1.1.0 in /home/naif/miniconda3/envs/legal-assistant/lib/python3.12/site-packages (from sympy>=1.13.3->torch) (1.3.0)\n",
            "Requirement already satisfied: MarkupSafe>=2.0 in /home/naif/miniconda3/envs/legal-assistant/lib/python3.12/site-packages (from jinja2->torch) (3.0.3)\n",
            "Requirement already satisfied: charset_normalizer<4,>=2 in /home/naif/miniconda3/envs/legal-assistant/lib/python3.12/site-packages (from requests->transformers) (3.4.4)\n",
            "Requirement already satisfied: idna<4,>=2.5 in /home/naif/miniconda3/envs/legal-assistant/lib/python3.12/site-packages (from requests->transformers) (3.11)\n",
            "Requirement already satisfied: urllib3<3,>=1.21.1 in /home/naif/miniconda3/envs/legal-assistant/lib/python3.12/site-packages (from requests->transformers) (2.5.0)\n",
            "Requirement already satisfied: certifi>=2017.4.17 in /home/naif/miniconda3/envs/legal-assistant/lib/python3.12/site-packages (from requests->transformers) (2025.10.5)\n",
            "Requirement already satisfied: threadpoolctl>=3.1.0 in /home/naif/miniconda3/envs/legal-assistant/lib/python3.12/site-packages (from scikit-learn->sentence-transformers) (3.6.0)\n"
          ]
        }
      ],
      "source": [
        "!pip install torch transformers sentence-transformers rank_bm25 nltk"
      ]
    },
    {
      "cell_type": "code",
      "execution_count": 10,
      "id": "a853bc3d",
      "metadata": {
        "colab": {
          "base_uri": "https://localhost:8080/"
        },
        "id": "a853bc3d",
        "outputId": "a86392ba-2419-4690-801e-e258f1a811e5"
      },
      "outputs": [
        {
          "name": "stderr",
          "output_type": "stream",
          "text": [
            "huggingface/tokenizers: The current process just got forked, after parallelism has already been used. Disabling parallelism to avoid deadlocks...\n",
            "To disable this warning, you can either:\n",
            "\t- Avoid using `tokenizers` before the fork if possible\n",
            "\t- Explicitly set the environment variable TOKENIZERS_PARALLELISM=(true | false)\n"
          ]
        },
        {
          "name": "stdout",
          "output_type": "stream",
          "text": [
            "Requirement already satisfied: faiss-cpu in /home/naif/miniconda3/envs/legal-assistant/lib/python3.12/site-packages (1.12.0)\n",
            "Requirement already satisfied: FlagEmbedding in /home/naif/miniconda3/envs/legal-assistant/lib/python3.12/site-packages (1.3.5)\n",
            "Requirement already satisfied: tqdm in /home/naif/miniconda3/envs/legal-assistant/lib/python3.12/site-packages (4.67.1)\n",
            "Requirement already satisfied: numpy in /home/naif/miniconda3/envs/legal-assistant/lib/python3.12/site-packages (2.3.4)\n",
            "Requirement already satisfied: matplotlib in /home/naif/miniconda3/envs/legal-assistant/lib/python3.12/site-packages (3.10.7)\n",
            "Requirement already satisfied: seaborn in /home/naif/miniconda3/envs/legal-assistant/lib/python3.12/site-packages (0.13.2)\n",
            "Requirement already satisfied: packaging in /home/naif/miniconda3/envs/legal-assistant/lib/python3.12/site-packages (from faiss-cpu) (25.0)\n",
            "Requirement already satisfied: torch>=1.6.0 in /home/naif/miniconda3/envs/legal-assistant/lib/python3.12/site-packages (from FlagEmbedding) (2.9.0)\n",
            "Requirement already satisfied: transformers>=4.44.2 in /home/naif/miniconda3/envs/legal-assistant/lib/python3.12/site-packages (from FlagEmbedding) (4.57.1)\n",
            "Requirement already satisfied: datasets>=2.19.0 in /home/naif/miniconda3/envs/legal-assistant/lib/python3.12/site-packages (from FlagEmbedding) (4.2.0)\n",
            "Requirement already satisfied: accelerate>=0.20.1 in /home/naif/miniconda3/envs/legal-assistant/lib/python3.12/site-packages (from FlagEmbedding) (1.11.0)\n",
            "Requirement already satisfied: sentence_transformers in /home/naif/miniconda3/envs/legal-assistant/lib/python3.12/site-packages (from FlagEmbedding) (5.1.2)\n",
            "Requirement already satisfied: peft in /home/naif/miniconda3/envs/legal-assistant/lib/python3.12/site-packages (from FlagEmbedding) (0.17.1)\n",
            "Requirement already satisfied: ir-datasets in /home/naif/miniconda3/envs/legal-assistant/lib/python3.12/site-packages (from FlagEmbedding) (0.5.11)\n",
            "Requirement already satisfied: sentencepiece in /home/naif/miniconda3/envs/legal-assistant/lib/python3.12/site-packages (from FlagEmbedding) (0.2.1)\n",
            "Requirement already satisfied: protobuf in /home/naif/miniconda3/envs/legal-assistant/lib/python3.12/site-packages (from FlagEmbedding) (6.33.0)\n",
            "Requirement already satisfied: contourpy>=1.0.1 in /home/naif/miniconda3/envs/legal-assistant/lib/python3.12/site-packages (from matplotlib) (1.3.3)\n",
            "Requirement already satisfied: cycler>=0.10 in /home/naif/miniconda3/envs/legal-assistant/lib/python3.12/site-packages (from matplotlib) (0.12.1)\n",
            "Requirement already satisfied: fonttools>=4.22.0 in /home/naif/miniconda3/envs/legal-assistant/lib/python3.12/site-packages (from matplotlib) (4.60.1)\n",
            "Requirement already satisfied: kiwisolver>=1.3.1 in /home/naif/miniconda3/envs/legal-assistant/lib/python3.12/site-packages (from matplotlib) (1.4.9)\n",
            "Requirement already satisfied: pillow>=8 in /home/naif/miniconda3/envs/legal-assistant/lib/python3.12/site-packages (from matplotlib) (12.0.0)\n",
            "Requirement already satisfied: pyparsing>=3 in /home/naif/miniconda3/envs/legal-assistant/lib/python3.12/site-packages (from matplotlib) (3.2.5)\n",
            "Requirement already satisfied: python-dateutil>=2.7 in /home/naif/miniconda3/envs/legal-assistant/lib/python3.12/site-packages (from matplotlib) (2.9.0.post0)\n",
            "Requirement already satisfied: pandas>=1.2 in /home/naif/miniconda3/envs/legal-assistant/lib/python3.12/site-packages (from seaborn) (2.3.3)\n",
            "Requirement already satisfied: psutil in /home/naif/miniconda3/envs/legal-assistant/lib/python3.12/site-packages (from accelerate>=0.20.1->FlagEmbedding) (7.0.0)\n",
            "Requirement already satisfied: pyyaml in /home/naif/miniconda3/envs/legal-assistant/lib/python3.12/site-packages (from accelerate>=0.20.1->FlagEmbedding) (6.0.3)\n",
            "Requirement already satisfied: huggingface_hub>=0.21.0 in /home/naif/miniconda3/envs/legal-assistant/lib/python3.12/site-packages (from accelerate>=0.20.1->FlagEmbedding) (0.35.3)\n",
            "Requirement already satisfied: safetensors>=0.4.3 in /home/naif/miniconda3/envs/legal-assistant/lib/python3.12/site-packages (from accelerate>=0.20.1->FlagEmbedding) (0.6.2)\n",
            "Requirement already satisfied: filelock in /home/naif/miniconda3/envs/legal-assistant/lib/python3.12/site-packages (from datasets>=2.19.0->FlagEmbedding) (3.20.0)\n",
            "Requirement already satisfied: pyarrow>=21.0.0 in /home/naif/miniconda3/envs/legal-assistant/lib/python3.12/site-packages (from datasets>=2.19.0->FlagEmbedding) (21.0.0)\n",
            "Requirement already satisfied: dill<0.4.1,>=0.3.0 in /home/naif/miniconda3/envs/legal-assistant/lib/python3.12/site-packages (from datasets>=2.19.0->FlagEmbedding) (0.4.0)\n",
            "Requirement already satisfied: requests>=2.32.2 in /home/naif/miniconda3/envs/legal-assistant/lib/python3.12/site-packages (from datasets>=2.19.0->FlagEmbedding) (2.32.5)\n",
            "Requirement already satisfied: httpx<1.0.0 in /home/naif/miniconda3/envs/legal-assistant/lib/python3.12/site-packages (from datasets>=2.19.0->FlagEmbedding) (0.28.1)\n",
            "Requirement already satisfied: xxhash in /home/naif/miniconda3/envs/legal-assistant/lib/python3.12/site-packages (from datasets>=2.19.0->FlagEmbedding) (3.6.0)\n",
            "Requirement already satisfied: multiprocess<0.70.17 in /home/naif/miniconda3/envs/legal-assistant/lib/python3.12/site-packages (from datasets>=2.19.0->FlagEmbedding) (0.70.16)\n",
            "Requirement already satisfied: fsspec<=2025.9.0,>=2023.1.0 in /home/naif/miniconda3/envs/legal-assistant/lib/python3.12/site-packages (from fsspec[http]<=2025.9.0,>=2023.1.0->datasets>=2.19.0->FlagEmbedding) (2025.9.0)\n",
            "Requirement already satisfied: aiohttp!=4.0.0a0,!=4.0.0a1 in /home/naif/miniconda3/envs/legal-assistant/lib/python3.12/site-packages (from fsspec[http]<=2025.9.0,>=2023.1.0->datasets>=2.19.0->FlagEmbedding) (3.13.1)\n",
            "Requirement already satisfied: anyio in /home/naif/miniconda3/envs/legal-assistant/lib/python3.12/site-packages (from httpx<1.0.0->datasets>=2.19.0->FlagEmbedding) (4.11.0)\n",
            "Requirement already satisfied: certifi in /home/naif/miniconda3/envs/legal-assistant/lib/python3.12/site-packages (from httpx<1.0.0->datasets>=2.19.0->FlagEmbedding) (2025.10.5)\n",
            "Requirement already satisfied: httpcore==1.* in /home/naif/miniconda3/envs/legal-assistant/lib/python3.12/site-packages (from httpx<1.0.0->datasets>=2.19.0->FlagEmbedding) (1.0.9)\n",
            "Requirement already satisfied: idna in /home/naif/miniconda3/envs/legal-assistant/lib/python3.12/site-packages (from httpx<1.0.0->datasets>=2.19.0->FlagEmbedding) (3.11)\n",
            "Requirement already satisfied: h11>=0.16 in /home/naif/miniconda3/envs/legal-assistant/lib/python3.12/site-packages (from httpcore==1.*->httpx<1.0.0->datasets>=2.19.0->FlagEmbedding) (0.16.0)\n",
            "Requirement already satisfied: typing-extensions>=3.7.4.3 in /home/naif/miniconda3/envs/legal-assistant/lib/python3.12/site-packages (from huggingface_hub>=0.21.0->accelerate>=0.20.1->FlagEmbedding) (4.15.0)\n",
            "Requirement already satisfied: hf-xet<2.0.0,>=1.1.3 in /home/naif/miniconda3/envs/legal-assistant/lib/python3.12/site-packages (from huggingface_hub>=0.21.0->accelerate>=0.20.1->FlagEmbedding) (1.1.10)\n",
            "Requirement already satisfied: aiohappyeyeballs>=2.5.0 in /home/naif/miniconda3/envs/legal-assistant/lib/python3.12/site-packages (from aiohttp!=4.0.0a0,!=4.0.0a1->fsspec[http]<=2025.9.0,>=2023.1.0->datasets>=2.19.0->FlagEmbedding) (2.6.1)\n",
            "Requirement already satisfied: aiosignal>=1.4.0 in /home/naif/miniconda3/envs/legal-assistant/lib/python3.12/site-packages (from aiohttp!=4.0.0a0,!=4.0.0a1->fsspec[http]<=2025.9.0,>=2023.1.0->datasets>=2.19.0->FlagEmbedding) (1.4.0)\n",
            "Requirement already satisfied: attrs>=17.3.0 in /home/naif/miniconda3/envs/legal-assistant/lib/python3.12/site-packages (from aiohttp!=4.0.0a0,!=4.0.0a1->fsspec[http]<=2025.9.0,>=2023.1.0->datasets>=2.19.0->FlagEmbedding) (25.4.0)\n",
            "Requirement already satisfied: frozenlist>=1.1.1 in /home/naif/miniconda3/envs/legal-assistant/lib/python3.12/site-packages (from aiohttp!=4.0.0a0,!=4.0.0a1->fsspec[http]<=2025.9.0,>=2023.1.0->datasets>=2.19.0->FlagEmbedding) (1.8.0)\n",
            "Requirement already satisfied: multidict<7.0,>=4.5 in /home/naif/miniconda3/envs/legal-assistant/lib/python3.12/site-packages (from aiohttp!=4.0.0a0,!=4.0.0a1->fsspec[http]<=2025.9.0,>=2023.1.0->datasets>=2.19.0->FlagEmbedding) (6.7.0)\n",
            "Requirement already satisfied: propcache>=0.2.0 in /home/naif/miniconda3/envs/legal-assistant/lib/python3.12/site-packages (from aiohttp!=4.0.0a0,!=4.0.0a1->fsspec[http]<=2025.9.0,>=2023.1.0->datasets>=2.19.0->FlagEmbedding) (0.4.1)\n",
            "Requirement already satisfied: yarl<2.0,>=1.17.0 in /home/naif/miniconda3/envs/legal-assistant/lib/python3.12/site-packages (from aiohttp!=4.0.0a0,!=4.0.0a1->fsspec[http]<=2025.9.0,>=2023.1.0->datasets>=2.19.0->FlagEmbedding) (1.22.0)\n",
            "Requirement already satisfied: pytz>=2020.1 in /home/naif/miniconda3/envs/legal-assistant/lib/python3.12/site-packages (from pandas>=1.2->seaborn) (2025.2)\n",
            "Requirement already satisfied: tzdata>=2022.7 in /home/naif/miniconda3/envs/legal-assistant/lib/python3.12/site-packages (from pandas>=1.2->seaborn) (2025.2)\n",
            "Requirement already satisfied: six>=1.5 in /home/naif/miniconda3/envs/legal-assistant/lib/python3.12/site-packages (from python-dateutil>=2.7->matplotlib) (1.17.0)\n",
            "Requirement already satisfied: charset_normalizer<4,>=2 in /home/naif/miniconda3/envs/legal-assistant/lib/python3.12/site-packages (from requests>=2.32.2->datasets>=2.19.0->FlagEmbedding) (3.4.4)\n",
            "Requirement already satisfied: urllib3<3,>=1.21.1 in /home/naif/miniconda3/envs/legal-assistant/lib/python3.12/site-packages (from requests>=2.32.2->datasets>=2.19.0->FlagEmbedding) (2.5.0)\n",
            "Requirement already satisfied: setuptools in /home/naif/miniconda3/envs/legal-assistant/lib/python3.12/site-packages (from torch>=1.6.0->FlagEmbedding) (80.9.0)\n",
            "Requirement already satisfied: sympy>=1.13.3 in /home/naif/miniconda3/envs/legal-assistant/lib/python3.12/site-packages (from torch>=1.6.0->FlagEmbedding) (1.14.0)\n",
            "Requirement already satisfied: networkx>=2.5.1 in /home/naif/miniconda3/envs/legal-assistant/lib/python3.12/site-packages (from torch>=1.6.0->FlagEmbedding) (3.5)\n",
            "Requirement already satisfied: jinja2 in /home/naif/miniconda3/envs/legal-assistant/lib/python3.12/site-packages (from torch>=1.6.0->FlagEmbedding) (3.1.6)\n",
            "Requirement already satisfied: nvidia-cuda-nvrtc-cu12==12.8.93 in /home/naif/miniconda3/envs/legal-assistant/lib/python3.12/site-packages (from torch>=1.6.0->FlagEmbedding) (12.8.93)\n",
            "Requirement already satisfied: nvidia-cuda-runtime-cu12==12.8.90 in /home/naif/miniconda3/envs/legal-assistant/lib/python3.12/site-packages (from torch>=1.6.0->FlagEmbedding) (12.8.90)\n",
            "Requirement already satisfied: nvidia-cuda-cupti-cu12==12.8.90 in /home/naif/miniconda3/envs/legal-assistant/lib/python3.12/site-packages (from torch>=1.6.0->FlagEmbedding) (12.8.90)\n",
            "Requirement already satisfied: nvidia-cudnn-cu12==9.10.2.21 in /home/naif/miniconda3/envs/legal-assistant/lib/python3.12/site-packages (from torch>=1.6.0->FlagEmbedding) (9.10.2.21)\n",
            "Requirement already satisfied: nvidia-cublas-cu12==12.8.4.1 in /home/naif/miniconda3/envs/legal-assistant/lib/python3.12/site-packages (from torch>=1.6.0->FlagEmbedding) (12.8.4.1)\n",
            "Requirement already satisfied: nvidia-cufft-cu12==11.3.3.83 in /home/naif/miniconda3/envs/legal-assistant/lib/python3.12/site-packages (from torch>=1.6.0->FlagEmbedding) (11.3.3.83)\n",
            "Requirement already satisfied: nvidia-curand-cu12==10.3.9.90 in /home/naif/miniconda3/envs/legal-assistant/lib/python3.12/site-packages (from torch>=1.6.0->FlagEmbedding) (10.3.9.90)\n",
            "Requirement already satisfied: nvidia-cusolver-cu12==11.7.3.90 in /home/naif/miniconda3/envs/legal-assistant/lib/python3.12/site-packages (from torch>=1.6.0->FlagEmbedding) (11.7.3.90)\n",
            "Requirement already satisfied: nvidia-cusparse-cu12==12.5.8.93 in /home/naif/miniconda3/envs/legal-assistant/lib/python3.12/site-packages (from torch>=1.6.0->FlagEmbedding) (12.5.8.93)\n",
            "Requirement already satisfied: nvidia-cusparselt-cu12==0.7.1 in /home/naif/miniconda3/envs/legal-assistant/lib/python3.12/site-packages (from torch>=1.6.0->FlagEmbedding) (0.7.1)\n",
            "Requirement already satisfied: nvidia-nccl-cu12==2.27.5 in /home/naif/miniconda3/envs/legal-assistant/lib/python3.12/site-packages (from torch>=1.6.0->FlagEmbedding) (2.27.5)\n",
            "Requirement already satisfied: nvidia-nvshmem-cu12==3.3.20 in /home/naif/miniconda3/envs/legal-assistant/lib/python3.12/site-packages (from torch>=1.6.0->FlagEmbedding) (3.3.20)\n",
            "Requirement already satisfied: nvidia-nvtx-cu12==12.8.90 in /home/naif/miniconda3/envs/legal-assistant/lib/python3.12/site-packages (from torch>=1.6.0->FlagEmbedding) (12.8.90)\n",
            "Requirement already satisfied: nvidia-nvjitlink-cu12==12.8.93 in /home/naif/miniconda3/envs/legal-assistant/lib/python3.12/site-packages (from torch>=1.6.0->FlagEmbedding) (12.8.93)\n",
            "Requirement already satisfied: nvidia-cufile-cu12==1.13.1.3 in /home/naif/miniconda3/envs/legal-assistant/lib/python3.12/site-packages (from torch>=1.6.0->FlagEmbedding) (1.13.1.3)\n",
            "Requirement already satisfied: triton==3.5.0 in /home/naif/miniconda3/envs/legal-assistant/lib/python3.12/site-packages (from torch>=1.6.0->FlagEmbedding) (3.5.0)\n",
            "Requirement already satisfied: mpmath<1.4,>=1.1.0 in /home/naif/miniconda3/envs/legal-assistant/lib/python3.12/site-packages (from sympy>=1.13.3->torch>=1.6.0->FlagEmbedding) (1.3.0)\n",
            "Requirement already satisfied: regex!=2019.12.17 in /home/naif/miniconda3/envs/legal-assistant/lib/python3.12/site-packages (from transformers>=4.44.2->FlagEmbedding) (2025.10.23)\n",
            "Requirement already satisfied: tokenizers<=0.23.0,>=0.22.0 in /home/naif/miniconda3/envs/legal-assistant/lib/python3.12/site-packages (from transformers>=4.44.2->FlagEmbedding) (0.22.1)\n",
            "Requirement already satisfied: sniffio>=1.1 in /home/naif/miniconda3/envs/legal-assistant/lib/python3.12/site-packages (from anyio->httpx<1.0.0->datasets>=2.19.0->FlagEmbedding) (1.3.1)\n",
            "Requirement already satisfied: beautifulsoup4>=4.4.1 in /home/naif/miniconda3/envs/legal-assistant/lib/python3.12/site-packages (from ir-datasets->FlagEmbedding) (4.14.2)\n",
            "Requirement already satisfied: inscriptis>=2.2.0 in /home/naif/miniconda3/envs/legal-assistant/lib/python3.12/site-packages (from ir-datasets->FlagEmbedding) (2.6.0)\n",
            "Requirement already satisfied: lxml>=4.5.2 in /home/naif/miniconda3/envs/legal-assistant/lib/python3.12/site-packages (from ir-datasets->FlagEmbedding) (6.0.2)\n",
            "Requirement already satisfied: trec-car-tools>=2.5.4 in /home/naif/miniconda3/envs/legal-assistant/lib/python3.12/site-packages (from ir-datasets->FlagEmbedding) (2.6)\n",
            "Requirement already satisfied: lz4>=3.1.10 in /home/naif/miniconda3/envs/legal-assistant/lib/python3.12/site-packages (from ir-datasets->FlagEmbedding) (4.4.4)\n",
            "Requirement already satisfied: warc3-wet>=0.2.3 in /home/naif/miniconda3/envs/legal-assistant/lib/python3.12/site-packages (from ir-datasets->FlagEmbedding) (0.2.5)\n",
            "Requirement already satisfied: warc3-wet-clueweb09>=0.2.5 in /home/naif/miniconda3/envs/legal-assistant/lib/python3.12/site-packages (from ir-datasets->FlagEmbedding) (0.2.5)\n",
            "Requirement already satisfied: zlib-state>=0.1.3 in /home/naif/miniconda3/envs/legal-assistant/lib/python3.12/site-packages (from ir-datasets->FlagEmbedding) (0.1.10)\n",
            "Requirement already satisfied: ijson>=3.1.3 in /home/naif/miniconda3/envs/legal-assistant/lib/python3.12/site-packages (from ir-datasets->FlagEmbedding) (3.4.0.post0)\n",
            "Requirement already satisfied: unlzw3>=0.2.1 in /home/naif/miniconda3/envs/legal-assistant/lib/python3.12/site-packages (from ir-datasets->FlagEmbedding) (0.2.3)\n",
            "Requirement already satisfied: soupsieve>1.2 in /home/naif/miniconda3/envs/legal-assistant/lib/python3.12/site-packages (from beautifulsoup4>=4.4.1->ir-datasets->FlagEmbedding) (2.8)\n",
            "Requirement already satisfied: cbor>=1.0.0 in /home/naif/miniconda3/envs/legal-assistant/lib/python3.12/site-packages (from trec-car-tools>=2.5.4->ir-datasets->FlagEmbedding) (1.0.0)\n",
            "Requirement already satisfied: MarkupSafe>=2.0 in /home/naif/miniconda3/envs/legal-assistant/lib/python3.12/site-packages (from jinja2->torch>=1.6.0->FlagEmbedding) (3.0.3)\n",
            "Requirement already satisfied: scikit-learn in /home/naif/miniconda3/envs/legal-assistant/lib/python3.12/site-packages (from sentence_transformers->FlagEmbedding) (1.7.2)\n",
            "Requirement already satisfied: scipy in /home/naif/miniconda3/envs/legal-assistant/lib/python3.12/site-packages (from sentence_transformers->FlagEmbedding) (1.16.2)\n",
            "Requirement already satisfied: joblib>=1.2.0 in /home/naif/miniconda3/envs/legal-assistant/lib/python3.12/site-packages (from scikit-learn->sentence_transformers->FlagEmbedding) (1.5.2)\n",
            "Requirement already satisfied: threadpoolctl>=3.1.0 in /home/naif/miniconda3/envs/legal-assistant/lib/python3.12/site-packages (from scikit-learn->sentence_transformers->FlagEmbedding) (3.6.0)\n"
          ]
        }
      ],
      "source": [
        "!pip install faiss-cpu FlagEmbedding tqdm numpy matplotlib seaborn\n",
        "\n",
        "# from google.colab import drive\n",
        "# drive.mount('/content/drive')"
      ]
    },
    {
      "cell_type": "markdown",
      "id": "ba0af75b",
      "metadata": {
        "id": "ba0af75b"
      },
      "source": [
        "## Import Required Libraries\n",
        "\n",
        "Let's import all the necessary Python libraries and configure the environment."
      ]
    },
    {
      "cell_type": "code",
      "execution_count": 1,
      "id": "cea97f7c",
      "metadata": {
        "id": "cea97f7c"
      },
      "outputs": [
        {
          "name": "stderr",
          "output_type": "stream",
          "text": [
            "/home/naif/miniconda3/envs/legal-assistant/lib/python3.12/site-packages/tqdm/auto.py:21: TqdmWarning: IProgress not found. Please update jupyter and ipywidgets. See https://ipywidgets.readthedocs.io/en/stable/user_install.html\n",
            "  from .autonotebook import tqdm as notebook_tqdm\n"
          ]
        }
      ],
      "source": [
        "\n",
        "import multiprocessing\n",
        "import faiss\n",
        "import json\n",
        "import numpy as np\n",
        "import matplotlib.pyplot as plt\n",
        "import seaborn as sns\n",
        "from tqdm import tqdm\n",
        "import os\n",
        "from FlagEmbedding import BGEM3FlagModel\n",
        "from app.utils.retrievers.evaluator import RetrievalEvaluator\n",
        "from app.utils.retrievers.multi_step import QueryRewriterRetrieverSubcategory, Law2StepRetriever, Part2StepRetriever\n",
        "from app.utils.retrievers.retriever import Retriever\n",
        "from langchain_openai import ChatOpenAI"
      ]
    },
    {
      "cell_type": "code",
      "execution_count": 2,
      "id": "2873ec6e",
      "metadata": {},
      "outputs": [],
      "source": [
        "faiss.omp_set_num_threads(12)"
      ]
    },
    {
      "cell_type": "markdown",
      "id": "2dd92f57",
      "metadata": {
        "id": "2dd92f57"
      },
      "source": [
        "## Define Data Classes and Helper Functions\n",
        "\n",
        "First, let's define our evaluation metrics dataclass and implement the core evaluation class."
      ]
    },
    {
      "cell_type": "markdown",
      "id": "ff460b70",
      "metadata": {
        "id": "ff460b70"
      },
      "source": [
        "## Visualization Functions\n",
        "\n",
        "Let's implement functions to visualize our evaluation results."
      ]
    },
    {
      "cell_type": "markdown",
      "id": "0db63ab1",
      "metadata": {
        "id": "0db63ab1"
      },
      "source": [
        "## Run Evaluation Pipeline\n",
        "\n",
        "Now let's run the evaluation pipeline. First, we need to:\n",
        "1. Initialize the BGE-M3 model\n",
        "2. Set up paths for the FAISS index and QA dataset\n",
        "3. Create an evaluator instance\n",
        "4. Run the evaluation\n",
        "5. Generate visualizations and reports"
      ]
    },
    {
      "cell_type": "code",
      "execution_count": 3,
      "id": "a984b181",
      "metadata": {
        "colab": {
          "base_uri": "https://localhost:8080/"
        },
        "id": "a984b181"
      },
      "outputs": [
        {
          "name": "stderr",
          "output_type": "stream",
          "text": [
            "Fetching 30 files: 100%|██████████| 30/30 [00:00<00:00, 22708.74it/s]\n"
          ]
        },
        {
          "name": "stdout",
          "output_type": "stream",
          "text": [
            "✓ Loaded 4156 QA pairs\n",
            "Using IP metric with index: data/m3_legal_faiss.index\n",
            "Initializing Retriever...\n",
            "Loading documents and metadata...\n",
            "✓ Loaded 16371 documents with metadata\n",
            "✓ BM25 initialized successfully!\n",
            "Initializing Retriever...\n",
            "Loading documents and metadata...\n",
            "✓ Loaded 16371 documents with metadata\n",
            "✓ BM25 initialized successfully!\n",
            "Initializing Retriever...\n",
            "Loading documents and metadata...\n",
            "✓ Loaded 16371 documents with metadata\n",
            "✓ BM25 initialized successfully!\n"
          ]
        }
      ],
      "source": [
        "# Configurations\n",
        "retriever_model = BGEM3FlagModel('BAAI/bge-m3', use_fp16=True)\n",
        "metric_type = 'ip'\n",
        "metric_suffix = 'V2' if metric_type == 'l2' else ''\n",
        "\n",
        "index_path = 'data/m3_legal_faiss.index'\n",
        "qa_dataset_path ='data/evaluation_data/law_qa_dataset_validated.json' #\n",
        "documents_path = 'data/saudi_laws_scraped.json'\n",
        "k_values=[1, 3, 5, 10, 20, 40, 80, 100]\n",
        "# Load QA dataset\n",
        "with open(qa_dataset_path, 'r', encoding='utf-8') as f:\n",
        "    data = json.load(f)\n",
        "    # We assume qa_pairs is a list of dicts, e.g.:\n",
        "    # [{\"query\": \"...\", \"relevant_ids\": [123, 456]}, ...]\n",
        "    qa_pairs = data.get('qa_pairs', [])\n",
        "print(f\"✓ Loaded {len(qa_pairs)} QA pairs\")\n",
        "\n",
        "print(f\"Using {metric_type.upper()} metric with index: {index_path}\")\n",
        "articles_index = faiss.read_index(index_path)\n",
        "retriever = Retriever(\n",
        "    faiss_index=articles_index,\n",
        "    documents_path=documents_path,\n",
        "    embeddings_model=retriever_model\n",
        ")\n",
        "# llm = ChatOpenAI(_(self\n",
        "#         openai_api_base =\"http://localhost:11434/v1\",\n",
        "#         api_key =\"good\",\n",
        "#         model=\"hf.co/unsloth/Qwen3-30B-A3B-Instruct-2507-GGUF:Q4_K_M\",\n",
        "#         temperature=0,\n",
        "#         max_tokens=1000\n",
        "#     )\n",
        "# qw_retriever = QueryRewriterRetrieverSubcategory(\n",
        "#         llm=llm,\n",
        "#         faiss_index_path=index_path,\n",
        "#         documents_path=documents_path,\n",
        "#         embeddings_model=retriever_model,\n",
        "# )\n",
        "\n",
        "part_2_step_retriever = Part2StepRetriever(\n",
        "    parts_faiss_index=faiss.read_index('data/m3_legal_faiss_parts.index'),\n",
        "    articles_faiss_index=articles_index,\n",
        "    id_to_part_path='data/m3_corpus_id_to_part_id_parts.json',\n",
        "    documents_path=documents_path,\n",
        "    embeddings_model=retriever_model,\n",
        ")\n",
        "\n",
        "\n",
        "law_2_step_retriever = Law2StepRetriever(\n",
        "    laws_faiss_index=faiss.read_index('data/m3_legal_faiss_laws.index'),\n",
        "    articles_faiss_index=articles_index,\n",
        "    documents_path=documents_path,\n",
        "    embeddings_model=retriever_model,\n",
        ")\n",
        "\n",
        "evaluator_dense = RetrievalEvaluator(\n",
        "    name=\"dense\",\n",
        "    approach_desc=\"Dense with IP Metric\",\n",
        "    model_name=\"BAAI/bge-m3\",\n",
        "    retrieve_function =retriever.dense,\n",
        "    qa_pairs=qa_pairs,\n",
        "    k_values=k_values,\n",
        "    is_baseline=True,\n",
        ")\n",
        "\n",
        "\n",
        "evaluator_hybrid = RetrievalEvaluator(\n",
        "        name=\"hybrid_dense_sparse\",\n",
        "        approach_desc=\"Hybrid (Dense + Sparse)\",\n",
        "        model_name=\"bge-small + BM25\",\n",
        "        retrieve_function =retriever.hybrid,\n",
        "        qa_pairs=qa_pairs,\n",
        "        k_values=k_values,\n",
        ")\n",
        "\n",
        "# evaluator_qw_retriever = RetrievalEvaluator(\n",
        "#         name=\"\",\n",
        "#         approach_desc=\"Query Rewriter+ filtering + Hybrid Retriever\",\n",
        "#         model_name=\"Qwen3-bge-small + BM25\",\n",
        "#         retrieve_function =qw_retriever.retrieve,\n",
        "#         qa_pairs=qa_pairs,\n",
        "#         k_values=k_values,\n",
        "# )\n",
        "\n",
        "evaluator_law_2_step = RetrievalEvaluator(\n",
        "        name=\"law_2_step_retriever\",\n",
        "        approach_desc=\"Law 2-Step + Hybrid Retriever\",\n",
        "        model_name=\"BAAI/bge-m3 + BM25\",\n",
        "        retrieve_function =law_2_step_retriever.retrieve,\n",
        "        qa_pairs=qa_pairs,\n",
        "        k_values=k_values,\n",
        ")\n",
        "\n",
        "evaluator_part_2_step = RetrievalEvaluator(\n",
        "        name=\"part_2_step_retriever\",\n",
        "        approach_desc=\"Part 2-Step + Hybrid Retriever\",\n",
        "        model_name=\"BAAI/bge-m3 + BM25\",\n",
        "        retrieve_function =part_2_step_retriever.retrieve,\n",
        "        qa_pairs=qa_pairs,\n",
        "        k_values=k_values,\n",
        ")"
      ]
    },
    {
      "cell_type": "code",
      "execution_count": 4,
      "id": "6cf63cd5",
      "metadata": {},
      "outputs": [],
      "source": [
        "# reslts = evaluator_qw_retriever.evaluate_all()"
      ]
    },
    {
      "cell_type": "code",
      "execution_count": 5,
      "id": "cd335363",
      "metadata": {},
      "outputs": [],
      "source": [
        "# evaluator_qw_retriever.save_results('.')\n",
        "# from app.utils.retrievers.evaluator import compare_approaches\n",
        "\n",
        "# compare_approaches([evaluator_qw_retriever], metric_type=\"ex\")"
      ]
    },
    {
      "cell_type": "code",
      "execution_count": 6,
      "id": "8feea8a5",
      "metadata": {
        "colab": {
          "base_uri": "https://localhost:8080/"
        },
        "id": "8feea8a5"
      },
      "outputs": [
        {
          "name": "stdout",
          "output_type": "stream",
          "text": [
            "\n",
            "Starting evaluation for 4 approaches...\n",
            "Evaluating 4156 queries for 'dense'...\n"
          ]
        },
        {
          "name": "stderr",
          "output_type": "stream",
          "text": [
            "  0%|          | 0/4156 [00:00<?, ?it/s]You're using a XLMRobertaTokenizerFast tokenizer. Please note that with a fast tokenizer, using the `__call__` method is faster than using a method to encode the text followed by a call to the `pad` method to get a padded encoding.\n",
            "100%|██████████| 4156/4156 [01:36<00:00, 42.91it/s]\n"
          ]
        },
        {
          "name": "stdout",
          "output_type": "stream",
          "text": [
            "Evaluating 4156 queries for 'hybrid_dense_sparse'...\n"
          ]
        },
        {
          "name": "stderr",
          "output_type": "stream",
          "text": [
            "100%|██████████| 4156/4156 [01:41<00:00, 40.83it/s]\n"
          ]
        },
        {
          "name": "stdout",
          "output_type": "stream",
          "text": [
            "Evaluating 4156 queries for 'law_2_step_retriever'...\n"
          ]
        },
        {
          "name": "stderr",
          "output_type": "stream",
          "text": [
            "100%|██████████| 4156/4156 [03:15<00:00, 21.24it/s]\n"
          ]
        },
        {
          "name": "stdout",
          "output_type": "stream",
          "text": [
            "Evaluating 4156 queries for 'part_2_step_retriever'...\n"
          ]
        },
        {
          "name": "stderr",
          "output_type": "stream",
          "text": [
            "100%|██████████| 4156/4156 [04:52<00:00, 14.20it/s]\n"
          ]
        },
        {
          "name": "stdout",
          "output_type": "stream",
          "text": [
            "\n",
            "Generating visualizations and saving results...\n",
            "✓ Saved plot to evaluation_pipeline/assets/evaluation_metrics_dense_relational_V0.png\n",
            "✓ Saved all results for 'dense' to evaluation_pipeline/assets\n",
            "✓ Saved plot to evaluation_pipeline/assets/evaluation_metrics_hybrid_dense_sparse_relational_V0.png\n",
            "✓ Saved all results for 'hybrid_dense_sparse' to evaluation_pipeline/assets\n",
            "✓ Saved plot to evaluation_pipeline/assets/evaluation_metrics_law_2_step_retriever_relational_V0.png\n",
            "✓ Saved all results for 'law_2_step_retriever' to evaluation_pipeline/assets\n",
            "✓ Saved plot to evaluation_pipeline/assets/evaluation_metrics_part_2_step_retriever_relational_V0.png\n",
            "✓ Saved all results for 'part_2_step_retriever' to evaluation_pipeline/assets\n",
            "\n",
            "✓ Evaluation workflow completed successfully!\n",
            "\n",
            "## METRIC COMPARISON: RETRIEVAL | BASELINE: Dense with IP Metric\n",
            "\n",
            "| Metric        | Dense with IP Metric | Hybrid (Dense + Sparse) | Law 2-Step + Hybrid Retriever | Part 2-Step + Hybrid Retriever |\n",
            "| -------------- | --------------------- | ------------------------ | ------------------------------ | ------------------------------- |\n",
            "| Recall@1      | 0.6022               | 0.6407 (+6.4%)          | 0.5121 (-15.0%)               | 0.6344 (+5.3%)                 |\n",
            "| Recall@3      | 0.7380               | 0.7706 (+4.4%)          | 0.6047 (-18.1%)               | 0.7658 (+3.8%)                 |\n",
            "| Recall@5      | 0.7804               | 0.8109 (+3.9%)          | 0.6289 (-19.4%)               | 0.8029 (+2.9%)                 |\n",
            "| Recall@10     | 0.8332               | 0.8540 (+2.5%)          | 0.6523 (-21.7%)               | 0.8474 (+1.7%)                 |\n",
            "| Recall@20     | 0.8717               | 0.8901 (+2.1%)          | 0.6670 (-23.5%)               | 0.8821 (+1.2%)                 |\n",
            "| Recall@40     | 0.9098               | 0.9236 (+1.5%)          | 0.6743 (-25.9%)               | 0.9182 (+0.9%)                 |\n",
            "| Recall@80     | 0.9421               | 0.9545 (+1.3%)          | 0.6760 (-28.2%)               | 0.9415 (-0.1%)                 |\n",
            "| Recall@100    | 0.9509               | 0.9612 (+1.1%)          | 0.6765 (-28.9%)               | 0.9458 (-0.5%)                 |\n",
            "| Precision@1   | 0.6112               | 0.6501 (+6.4%)          | 0.5200 (-14.9%)               | 0.6439 (+5.4%)                 |\n",
            "| Precision@3   | 0.2517               | 0.2629 (+4.5%)          | 0.2064 (-18.0%)               | 0.2615 (+3.9%)                 |\n",
            "| Precision@5   | 0.1603               | 0.1666 (+3.9%)          | 0.1293 (-19.3%)               | 0.1650 (+2.9%)                 |\n",
            "| Precision@10  | 0.0859               | 0.0881 (+2.5%)          | 0.0674 (-21.6%)               | 0.0874 (+1.7%)                 |\n",
            "| Precision@20  | 0.0451               | 0.0460 (+2.1%)          | 0.0346 (-23.3%)               | 0.0456 (+1.3%)                 |\n",
            "| Precision@40  | 0.0236               | 0.0239 (+1.4%)          | 0.0175 (-25.7%)               | 0.0238 (+0.9%)                 |\n",
            "| Precision@80  | 0.0122               | 0.0124 (+1.3%)          | 0.0088 (-28.1%)               | 0.0122 (-0.1%)                 |\n",
            "| Precision@100 | 0.0098               | 0.0100 (+1.1%)          | 0.0070 (-28.6%)               | 0.0098 (-0.5%)                 |\n",
            "| NDCG@1        | 0.6112               | 0.6501 (+6.4%)          | 0.5200 (-14.9%)               | 0.6439 (+5.4%)                 |\n",
            "| NDCG@3        | 0.6858               | 0.7211 (+5.2%)          | 0.5703 (-16.8%)               | 0.7158 (+4.4%)                 |\n",
            "| NDCG@5        | 0.7035               | 0.7379 (+4.9%)          | 0.5805 (-17.5%)               | 0.7312 (+3.9%)                 |\n",
            "| NDCG@10       | 0.7209               | 0.7522 (+4.3%)          | 0.5884 (-18.4%)               | 0.7460 (+3.5%)                 |\n",
            "| NDCG@20       | 0.7308               | 0.7615 (+4.2%)          | 0.5923 (-19.0%)               | 0.7550 (+3.3%)                 |\n",
            "| NDCG@40       | 0.7387               | 0.7684 (+4.0%)          | 0.5938 (-19.6%)               | 0.7624 (+3.2%)                 |\n",
            "| NDCG@80       | 0.7443               | 0.7738 (+4.0%)          | 0.5941 (-20.2%)               | 0.7664 (+3.0%)                 |\n",
            "| NDCG@100      | 0.7456               | 0.7748 (+3.9%)          | 0.5942 (-20.3%)               | 0.7671 (+2.9%)                 |\n",
            "| Hit Rate@1    | 0.6112               | 0.6501 (+6.4%)          | 0.5200 (-14.9%)               | 0.6439 (+5.4%)                 |\n",
            "| Hit Rate@3    | 0.7459               | 0.7784 (+4.4%)          | 0.6109 (-18.1%)               | 0.7736 (+3.7%)                 |\n",
            "| Hit Rate@5    | 0.7875               | 0.8179 (+3.8%)          | 0.6333 (-19.6%)               | 0.8094 (+2.8%)                 |\n",
            "| Hit Rate@10   | 0.8381               | 0.8590 (+2.5%)          | 0.6552 (-21.8%)               | 0.8525 (+1.7%)                 |\n",
            "| Hit Rate@20   | 0.8761               | 0.8936 (+2.0%)          | 0.6692 (-23.6%)               | 0.8857 (+1.1%)                 |\n",
            "| Hit Rate@40   | 0.9129               | 0.9269 (+1.5%)          | 0.6759 (-26.0%)               | 0.9213 (+0.9%)                 |\n",
            "| Hit Rate@80   | 0.9451               | 0.9574 (+1.3%)          | 0.6773 (-28.3%)               | 0.9444 (-0.1%)                 |\n",
            "| Hit Rate@100  | 0.9538               | 0.9639 (+1.1%)          | 0.6778 (-28.9%)               | 0.9487 (-0.5%)                 |\n",
            "| MRR           | 0.6928               | 0.7268 (+4.9%)          | 0.5713 (-17.5%)               | 0.7206 (+4.0%)                 |\n",
            "| MAP           | 0.6879               | 0.7220 (+5.0%)          | 0.5676 (-17.5%)               | 0.7158 (+4.1%)                 |\n",
            "\n",
            "*Improvement is calculated against baseline. Positive values indicate improvement.*\n"
          ]
        }
      ],
      "source": [
        "from app.utils.retrievers.evaluator import compare_approaches\n",
        "approaches = [evaluator_dense, evaluator_hybrid, evaluator_law_2_step, evaluator_part_2_step]#, evaluator_law_2_step, evaluator_part_2_step]\n",
        "EVAL_DIR = 'evaluation_pipeline/assets'\n",
        "METRIC_TYPE = 'retrieval'\n",
        "METRIC_SUFFIX = \"relational_V0\"\n",
        "# 3. Run evaluations\n",
        "print(f\"\\nStarting evaluation for {len(approaches)} approaches...\")\n",
        "for approach in approaches:\n",
        "    approach.evaluate_all()\n",
        "\n",
        "\n",
        "# 4. Save results (plot, report, details)\n",
        "print(\"\\nGenerating visualizations and saving results...\")\n",
        "for approach in approaches:\n",
        "    approach.save_results(\n",
        "        evaluation_dir=EVAL_DIR,\n",
        "        metric_suffix=METRIC_SUFFIX,\n",
        "        # METRIC_TYPE=METRIC_TYPE\n",
        "    )\n",
        "\n",
        "print(\"\\n✓ Evaluation workflow completed successfully!\")\n",
        "# 5. Compare all approaches\n",
        "compare_approaches(\n",
        "    approaches,\n",
        "    METRIC_TYPE\n",
        ")"
      ]
    },
    {
      "cell_type": "code",
      "execution_count": null,
      "id": "958bc8cd",
      "metadata": {},
      "outputs": [],
      "source": []
    }
  ],
  "metadata": {
    "accelerator": "GPU",
    "colab": {
      "gpuType": "T4",
      "provenance": []
    },
    "kernelspec": {
      "display_name": "legal-assistant",
      "language": "python",
      "name": "python3"
    },
    "language_info": {
      "codemirror_mode": {
        "name": "ipython",
        "version": 3
      },
      "file_extension": ".py",
      "mimetype": "text/x-python",
      "name": "python",
      "nbconvert_exporter": "python",
      "pygments_lexer": "ipython3",
      "version": "3.12.12"
    },
    "widgets": {
      "application/vnd.jupyter.widget-state+json": {}
    }
  },
  "nbformat": 4,
  "nbformat_minor": 5
}
